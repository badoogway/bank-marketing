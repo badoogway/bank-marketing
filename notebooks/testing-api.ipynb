{
 "cells": [
  {
   "cell_type": "markdown",
   "metadata": {},
   "source": [
    "# 🌐 API Verification and Validation"
   ]
  },
  {
   "cell_type": "code",
   "execution_count": 1,
   "metadata": {},
   "outputs": [],
   "source": [
    "import requests\n",
    "\n",
    "# 🚫 Client Not Interested [Request #1]\n",
    "client_not_interested = {\n",
    "    'client_id': 29312,\n",
    "\n",
    "    'age': 58,\n",
    "    'job': 'management',\n",
    "    'marital': 'married',\n",
    "    'education': 'tertiary',\n",
    "    'default': 'no',\n",
    "    'balance': 2143,\n",
    "    'housing': 'yes',\n",
    "    'loan': 'no',\n",
    "    'contact': 'unknown',\n",
    "    'day': 5,\n",
    "    'month': 'may',\n",
    "    'duration': 261,\n",
    "    'campaign': 1,\n",
    "    'pdays': -1,\n",
    "    'previous': 0,\n",
    "    'poutcome': 'unknown'\n",
    "}\n",
    "\n",
    "# ✅ Successful Subscription [Request #2]\n",
    "successful_subscription = {\n",
    "    'client_id': 12314,\n",
    "\n",
    "    'age': 72,\n",
    "    'job': 'retired',\n",
    "    'marital': 'married',\n",
    "    'education': 'secondary',\n",
    "    'default': 'no',\n",
    "    'balance': 5715,\n",
    "    'housing': 'no',\n",
    "    'loan': 'no',\n",
    "    'contact': 'cellular',\n",
    "    'day': 17,\n",
    "    'month': 'nov',\n",
    "    'duration': 1127,\n",
    "    'campaign': 5,\n",
    "    'pdays': 184,\n",
    "    'previous': 3,\n",
    "    'poutcome': 'success'\n",
    "}"
   ]
  },
  {
   "cell_type": "markdown",
   "metadata": {},
   "source": [
    "### 🌊 Local Deployment via Docker"
   ]
  },
  {
   "cell_type": "code",
   "execution_count": 2,
   "metadata": {},
   "outputs": [
    {
     "name": "stdout",
     "output_type": "stream",
     "text": [
      "Request #1:\n",
      " {'client_id': 29312, 'age': 58, 'job': 'management', 'marital': 'married', 'education': 'tertiary', 'default': 'no', 'balance': 2143, 'housing': 'yes', 'loan': 'no', 'contact': 'unknown', 'day': 5, 'month': 'may', 'duration': 261, 'campaign': 1, 'pdays': -1, 'previous': 0, 'poutcome': 'unknown'}\n",
      "Response #1:\n",
      " {'client_id': 29312, 'subscribe_proba': 0.0419}\n",
      "\n",
      "Request #2:\n",
      " {'client_id': 12314, 'age': 72, 'job': 'retired', 'marital': 'married', 'education': 'secondary', 'default': 'no', 'balance': 5715, 'housing': 'no', 'loan': 'no', 'contact': 'cellular', 'day': 17, 'month': 'nov', 'duration': 1127, 'campaign': 5, 'pdays': 184, 'previous': 3, 'poutcome': 'success'}\n",
      "Response #2:\n",
      " {'client_id': 12314, 'subscribe_proba': 0.8605}\n"
     ]
    }
   ],
   "source": [
    "url = 'http://localhost:9696/predict'\n",
    "\n",
    "print(f\"Request #1:\\n {client_not_interested}\")\n",
    "print(f\"Response #1:\\n {requests.post(url, json=client_not_interested).json()}\")\n",
    "print()\n",
    "print(f\"Request #2:\\n {successful_subscription}\")\n",
    "print(f\"Response #2:\\n {requests.post(url, json=successful_subscription).json()}\")"
   ]
  },
  {
   "cell_type": "markdown",
   "metadata": {},
   "source": [
    "### ☁ Cloud Deployment via Render"
   ]
  },
  {
   "cell_type": "code",
   "execution_count": 3,
   "metadata": {},
   "outputs": [
    {
     "name": "stdout",
     "output_type": "stream",
     "text": [
      "Request #1:\n",
      " {'client_id': 29312, 'age': 58, 'job': 'management', 'marital': 'married', 'education': 'tertiary', 'default': 'no', 'balance': 2143, 'housing': 'yes', 'loan': 'no', 'contact': 'unknown', 'day': 5, 'month': 'may', 'duration': 261, 'campaign': 1, 'pdays': -1, 'previous': 0, 'poutcome': 'unknown'}\n"
     ]
    },
    {
     "name": "stdout",
     "output_type": "stream",
     "text": [
      "Response #1:\n",
      " {'client_id': 29312, 'subscribe_proba': 0.0419}\n",
      "\n",
      "Request #2:\n",
      " {'client_id': 12314, 'age': 72, 'job': 'retired', 'marital': 'married', 'education': 'secondary', 'default': 'no', 'balance': 5715, 'housing': 'no', 'loan': 'no', 'contact': 'cellular', 'day': 17, 'month': 'nov', 'duration': 1127, 'campaign': 5, 'pdays': 184, 'previous': 3, 'poutcome': 'success'}\n",
      "Response #2:\n",
      " {'client_id': 12314, 'subscribe_proba': 0.8605}\n"
     ]
    }
   ],
   "source": [
    "url = 'http://bank-marketing-1jqh.onrender.com/predict'\n",
    "\n",
    "print(f\"Request #1:\\n {client_not_interested}\")\n",
    "print(f\"Response #1:\\n {requests.post(url, json=client_not_interested).json()}\")\n",
    "print()\n",
    "print(f\"Request #2:\\n {successful_subscription}\")\n",
    "print(f\"Response #2:\\n {requests.post(url, json=successful_subscription).json()}\")"
   ]
  }
 ],
 "metadata": {
  "kernelspec": {
   "display_name": "bank-marketing-POT4Dego",
   "language": "python",
   "name": "python3"
  },
  "language_info": {
   "codemirror_mode": {
    "name": "ipython",
    "version": 3
   },
   "file_extension": ".py",
   "mimetype": "text/x-python",
   "name": "python",
   "nbconvert_exporter": "python",
   "pygments_lexer": "ipython3",
   "version": "3.10.12"
  }
 },
 "nbformat": 4,
 "nbformat_minor": 2
}
